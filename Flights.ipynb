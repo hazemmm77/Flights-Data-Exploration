{
 "cells": [
  {
   "cell_type": "markdown",
   "metadata": {
    "slideshow": {
     "slide_type": "slide"
    }
   },
   "source": [
    "# Flights Data Exploration\n",
    "## by (Hazem Fathy)\n",
    "\n",
    "## Preliminary Wrangling\n",
    "\n",
    "This document explores flights in the United States, including carriers, arrival and departure delays, and reasons for delays, from 2006 to 2008.\n"
   ]
  },
  {
   "cell_type": "code",
   "execution_count": 34,
   "metadata": {
    "slideshow": {
     "slide_type": "skip"
    }
   },
   "outputs": [],
   "source": [
    "# import all packages and set plots to be embedded inline\n",
    "import numpy as np\n",
    "import pandas as pd\n",
    "import matplotlib.pyplot as plt\n",
    "import seaborn as sb\n",
    "\n",
    "%matplotlib inline"
   ]
  },
  {
   "cell_type": "code",
   "execution_count": 35,
   "metadata": {
    "slideshow": {
     "slide_type": "skip"
    }
   },
   "outputs": [],
   "source": [
    "# load in the datasets into a pandas dataframe, print statistics\n",
    "flights_2008 = pd.read_csv('2008.csv')\n",
    "flights_2007=pd.read_csv('2007.csv')\n",
    "flights_2006=pd.read_csv('2006.csv')"
   ]
  },
  {
   "cell_type": "code",
   "execution_count": 36,
   "metadata": {
    "slideshow": {
     "slide_type": "skip"
    }
   },
   "outputs": [],
   "source": [
    "flights=pd.concat([flights_2008,flights_2007,flights_2006])  # all data in one data frame"
   ]
  },
  {
   "cell_type": "code",
   "execution_count": 37,
   "metadata": {
    "slideshow": {
     "slide_type": "skip"
    }
   },
   "outputs": [
    {
     "name": "stdout",
     "output_type": "stream",
     "text": [
      "(16984354, 29)\n",
      "Year                   int64\n",
      "Month                  int64\n",
      "DayofMonth             int64\n",
      "DayOfWeek              int64\n",
      "DepTime              float64\n",
      "CRSDepTime             int64\n",
      "ArrTime              float64\n",
      "CRSArrTime             int64\n",
      "UniqueCarrier         object\n",
      "FlightNum              int64\n",
      "TailNum               object\n",
      "ActualElapsedTime    float64\n",
      "CRSElapsedTime       float64\n",
      "AirTime              float64\n",
      "ArrDelay             float64\n",
      "DepDelay             float64\n",
      "Origin                object\n",
      "Dest                  object\n",
      "Distance               int64\n",
      "TaxiIn               float64\n",
      "TaxiOut              float64\n",
      "Cancelled              int64\n",
      "CancellationCode      object\n",
      "Diverted               int64\n",
      "CarrierDelay         float64\n",
      "WeatherDelay         float64\n",
      "NASDelay             float64\n",
      "SecurityDelay        float64\n",
      "LateAircraftDelay    float64\n",
      "dtype: object\n",
      "   Year  Month  DayofMonth  DayOfWeek  DepTime  CRSDepTime  ArrTime  \\\n",
      "0  2008      1           3          4   1343.0        1325   1451.0   \n",
      "1  2008      1           3          4   1125.0        1120   1247.0   \n",
      "2  2008      1           3          4   2009.0        2015   2136.0   \n",
      "3  2008      1           3          4    903.0         855   1203.0   \n",
      "4  2008      1           3          4   1423.0        1400   1726.0   \n",
      "5  2008      1           3          4   2024.0        2020   2325.0   \n",
      "6  2008      1           3          4   1753.0        1745   2053.0   \n",
      "7  2008      1           3          4    622.0         620    935.0   \n",
      "8  2008      1           3          4   1944.0        1945   2210.0   \n",
      "9  2008      1           3          4   1453.0        1425   1716.0   \n",
      "\n",
      "   CRSArrTime UniqueCarrier  FlightNum  ... TaxiIn  TaxiOut  Cancelled  \\\n",
      "0        1435            WN        588  ...    4.0      9.0          0   \n",
      "1        1245            WN       1343  ...    3.0      8.0          0   \n",
      "2        2140            WN       3841  ...    2.0     14.0          0   \n",
      "3        1205            WN          3  ...    5.0      7.0          0   \n",
      "4        1710            WN         25  ...    6.0     10.0          0   \n",
      "5        2325            WN         51  ...   13.0      7.0          0   \n",
      "6        2050            WN        940  ...    6.0      7.0          0   \n",
      "7         930            WN       2621  ...    7.0     19.0          0   \n",
      "8        2215            WN        389  ...    7.0     15.0          0   \n",
      "9        1650            WN        519  ...    6.0     13.0          0   \n",
      "\n",
      "   CancellationCode  Diverted  CarrierDelay WeatherDelay NASDelay  \\\n",
      "0               NaN         0          16.0          0.0      0.0   \n",
      "1               NaN         0           NaN          NaN      NaN   \n",
      "2               NaN         0           NaN          NaN      NaN   \n",
      "3               NaN         0           NaN          NaN      NaN   \n",
      "4               NaN         0          16.0          0.0      0.0   \n",
      "5               NaN         0           NaN          NaN      NaN   \n",
      "6               NaN         0           NaN          NaN      NaN   \n",
      "7               NaN         0           NaN          NaN      NaN   \n",
      "8               NaN         0           NaN          NaN      NaN   \n",
      "9               NaN         0          11.0          0.0      0.0   \n",
      "\n",
      "   SecurityDelay  LateAircraftDelay  \n",
      "0            0.0                0.0  \n",
      "1            NaN                NaN  \n",
      "2            NaN                NaN  \n",
      "3            NaN                NaN  \n",
      "4            0.0                0.0  \n",
      "5            NaN                NaN  \n",
      "6            NaN                NaN  \n",
      "7            NaN                NaN  \n",
      "8            NaN                NaN  \n",
      "9            0.0               15.0  \n",
      "\n",
      "[10 rows x 29 columns]\n"
     ]
    }
   ],
   "source": [
    "# high-level overview of data shape and composition\n",
    "print(flights.shape)\n",
    "print(flights.dtypes)\n",
    "print(flights.head(10))"
   ]
  },
  {
   "cell_type": "markdown",
   "metadata": {
    "slideshow": {
     "slide_type": "slide"
    }
   },
   "source": [
    "### <strong style=\"color:blue;\">What is the structure of your dataset?</strong>\n",
    ">There are 16984354 Flights with 29 features. Most variables are numeric in nature, but the variables (UniqueCarrier,Origin,Dest,CancellationCode) are categoric\n",
    "\n",
    "###  <strong style=\"color:blue;\"> What is/are the main feature(s) of interest in your dataset?</strong>\n",
    "> I'm most interested in figuring out what features are best for predicting that:are there certain destination or arrival cities that are home to more delays or cancellations\n",
    "\n",
    "### <strong style=\"color:blue;\">What features in the dataset do you think will help support your investigation into your feature(s) of interest?</strong>\n",
    "\n",
    ">  I think number of  cancelled flights or delayed flights thow origins and Destinations could give us good  Insights\n",
    "and also with delay reasons and Cancellation reasons give us if origins and Destinations have responsible for them\n"
   ]
  },
  {
   "cell_type": "markdown",
   "metadata": {
    "slideshow": {
     "slide_type": "slide"
    }
   },
   "source": [
    "<h2 style=\"color:blue;\">are there certain destination or arrival cities that are home to more delays or cancellations?</h2>"
   ]
  },
  {
   "cell_type": "code",
   "execution_count": 38,
   "metadata": {
    "slideshow": {
     "slide_type": "skip"
    }
   },
   "outputs": [],
   "source": [
    "flights_Cancelled=flights.query('Cancelled==1')              # make datafram for cancelled flights"
   ]
  },
  {
   "cell_type": "code",
   "execution_count": 39,
   "metadata": {
    "slideshow": {
     "slide_type": "skip"
    }
   },
   "outputs": [],
   "source": [
    "flights_Cancelled=flights_Cancelled[{'Origin','Dest','CancellationCode','UniqueCarrier'}]    # this coulmns which i interest to answer Q1"
   ]
  },
  {
   "cell_type": "code",
   "execution_count": 40,
   "metadata": {
    "slideshow": {
     "slide_type": "skip"
    }
   },
   "outputs": [
    {
     "data": {
      "text/html": [
       "<div>\n",
       "<style scoped>\n",
       "    .dataframe tbody tr th:only-of-type {\n",
       "        vertical-align: middle;\n",
       "    }\n",
       "\n",
       "    .dataframe tbody tr th {\n",
       "        vertical-align: top;\n",
       "    }\n",
       "\n",
       "    .dataframe thead th {\n",
       "        text-align: right;\n",
       "    }\n",
       "</style>\n",
       "<table border=\"1\" class=\"dataframe\">\n",
       "  <thead>\n",
       "    <tr style=\"text-align: right;\">\n",
       "      <th></th>\n",
       "      <th>Dest</th>\n",
       "      <th>Origin</th>\n",
       "      <th>UniqueCarrier</th>\n",
       "      <th>CancellationCode</th>\n",
       "    </tr>\n",
       "  </thead>\n",
       "  <tbody>\n",
       "    <tr>\n",
       "      <th>42</th>\n",
       "      <td>SAT</td>\n",
       "      <td>HOU</td>\n",
       "      <td>WN</td>\n",
       "      <td>A</td>\n",
       "    </tr>\n",
       "    <tr>\n",
       "      <th>259</th>\n",
       "      <td>OAK</td>\n",
       "      <td>LAS</td>\n",
       "      <td>WN</td>\n",
       "      <td>A</td>\n",
       "    </tr>\n",
       "    <tr>\n",
       "      <th>454</th>\n",
       "      <td>OAK</td>\n",
       "      <td>LAX</td>\n",
       "      <td>WN</td>\n",
       "      <td>A</td>\n",
       "    </tr>\n",
       "    <tr>\n",
       "      <th>480</th>\n",
       "      <td>SFO</td>\n",
       "      <td>LAX</td>\n",
       "      <td>WN</td>\n",
       "      <td>A</td>\n",
       "    </tr>\n",
       "    <tr>\n",
       "      <th>482</th>\n",
       "      <td>SFO</td>\n",
       "      <td>LAX</td>\n",
       "      <td>WN</td>\n",
       "      <td>C</td>\n",
       "    </tr>\n",
       "  </tbody>\n",
       "</table>\n",
       "</div>"
      ],
      "text/plain": [
       "    Dest Origin UniqueCarrier CancellationCode\n",
       "42   SAT    HOU            WN                A\n",
       "259  OAK    LAS            WN                A\n",
       "454  OAK    LAX            WN                A\n",
       "480  SFO    LAX            WN                A\n",
       "482  SFO    LAX            WN                C"
      ]
     },
     "execution_count": 40,
     "metadata": {},
     "output_type": "execute_result"
    }
   ],
   "source": [
    "flights_Cancelled.head()"
   ]
  },
  {
   "cell_type": "code",
   "execution_count": 41,
   "metadata": {
    "slideshow": {
     "slide_type": "skip"
    }
   },
   "outputs": [
    {
     "data": {
      "text/plain": [
       "ORD    38056\n",
       "DFW    19140\n",
       "ATL    16244\n",
       "LGA    13593\n",
       "EWR    12415\n",
       "DEN     9426\n",
       "BOS     9143\n",
       "LAX     7539\n",
       "DTW     7453\n",
       "JFK     7046\n",
       "DCA     6894\n",
       "SFO     6266\n",
       "IAD     6128\n",
       "MSP     5686\n",
       "PHL     5208\n",
       "IAH     5204\n",
       "PHX     5172\n",
       "CVG     5134\n",
       "CLT     4684\n",
       "LAS     4201\n",
       "CLE     3363\n",
       "MEM     3308\n",
       "BWI     3298\n",
       "MDW     3237\n",
       "STL     3125\n",
       "RDU     3087\n",
       "SAN     2868\n",
       "SLC     2716\n",
       "DAL     2342\n",
       "OAK     2333\n",
       "SEA     2332\n",
       "PIT     2319\n",
       "MCO     2315\n",
       "HOU     2227\n",
       "MCI     2193\n",
       "CMH     2186\n",
       "BNA     2076\n",
       "SNA     1933\n",
       "MIA     1900\n",
       "MKE     1875\n",
       "SJC     1795\n",
       "IND     1747\n",
       "AUS     1631\n",
       "BDL     1615\n",
       "BUF     1549\n",
       "FLL     1460\n",
       "SAT     1447\n",
       "TPA     1427\n",
       "ROC     1348\n",
       "SMF     1305\n",
       "Name: Origin, dtype: int64"
      ]
     },
     "execution_count": 41,
     "metadata": {},
     "output_type": "execute_result"
    }
   ],
   "source": [
    "largest_org=flights_Cancelled.Origin.value_counts(sort=True).nlargest(50) # Because it is big dataset i emphasis on lagest 50 origin\n",
    "largest_org"
   ]
  },
  {
   "cell_type": "code",
   "execution_count": 42,
   "metadata": {
    "slideshow": {
     "slide_type": "skip"
    }
   },
   "outputs": [
    {
     "data": {
      "text/html": [
       "<div>\n",
       "<style scoped>\n",
       "    .dataframe tbody tr th:only-of-type {\n",
       "        vertical-align: middle;\n",
       "    }\n",
       "\n",
       "    .dataframe tbody tr th {\n",
       "        vertical-align: top;\n",
       "    }\n",
       "\n",
       "    .dataframe thead th {\n",
       "        text-align: right;\n",
       "    }\n",
       "</style>\n",
       "<table border=\"1\" class=\"dataframe\">\n",
       "  <thead>\n",
       "    <tr style=\"text-align: right;\">\n",
       "      <th></th>\n",
       "      <th>Dest</th>\n",
       "      <th>Origin</th>\n",
       "      <th>UniqueCarrier</th>\n",
       "      <th>CancellationCode</th>\n",
       "    </tr>\n",
       "  </thead>\n",
       "  <tbody>\n",
       "    <tr>\n",
       "      <th>42</th>\n",
       "      <td>SAT</td>\n",
       "      <td>HOU</td>\n",
       "      <td>WN</td>\n",
       "      <td>A</td>\n",
       "    </tr>\n",
       "    <tr>\n",
       "      <th>259</th>\n",
       "      <td>OAK</td>\n",
       "      <td>LAS</td>\n",
       "      <td>WN</td>\n",
       "      <td>A</td>\n",
       "    </tr>\n",
       "    <tr>\n",
       "      <th>454</th>\n",
       "      <td>OAK</td>\n",
       "      <td>LAX</td>\n",
       "      <td>WN</td>\n",
       "      <td>A</td>\n",
       "    </tr>\n",
       "    <tr>\n",
       "      <th>480</th>\n",
       "      <td>SFO</td>\n",
       "      <td>LAX</td>\n",
       "      <td>WN</td>\n",
       "      <td>A</td>\n",
       "    </tr>\n",
       "    <tr>\n",
       "      <th>482</th>\n",
       "      <td>SFO</td>\n",
       "      <td>LAX</td>\n",
       "      <td>WN</td>\n",
       "      <td>C</td>\n",
       "    </tr>\n",
       "  </tbody>\n",
       "</table>\n",
       "</div>"
      ],
      "text/plain": [
       "    Dest Origin UniqueCarrier CancellationCode\n",
       "42   SAT    HOU            WN                A\n",
       "259  OAK    LAS            WN                A\n",
       "454  OAK    LAX            WN                A\n",
       "480  SFO    LAX            WN                A\n",
       "482  SFO    LAX            WN                C"
      ]
     },
     "execution_count": 42,
     "metadata": {},
     "output_type": "execute_result"
    }
   ],
   "source": [
    "flights_Cancelled_top50Origin=flights_Cancelled[flights_Cancelled.Origin.isin(largest_org.index)] # most Frequancy 50 Origins\n",
    "flights_Cancelled_top50Origin.head()"
   ]
  },
  {
   "cell_type": "code",
   "execution_count": 43,
   "metadata": {
    "slideshow": {
     "slide_type": "skip"
    }
   },
   "outputs": [
    {
     "data": {
      "text/plain": [
       "ORD    40368\n",
       "DFW    20050\n",
       "ATL    18207\n",
       "LGA    13413\n",
       "EWR    12617\n",
       "DEN    10086\n",
       "BOS     8951\n",
       "DTW     8171\n",
       "LAX     8015\n",
       "JFK     6893\n",
       "PHX     6802\n",
       "SFO     6675\n",
       "DCA     6612\n",
       "IAD     6550\n",
       "CVG     6281\n",
       "MSP     6207\n",
       "IAH     5494\n",
       "CLT     5192\n",
       "PHL     4926\n",
       "LAS     3819\n",
       "MEM     3607\n",
       "SLC     3482\n",
       "CLE     3328\n",
       "MDW     3075\n",
       "BWI     3065\n",
       "RDU     3022\n",
       "STL     2986\n",
       "SEA     2663\n",
       "SAN     2507\n",
       "DAL     2503\n",
       "OAK     2359\n",
       "HOU     2266\n",
       "PIT     2168\n",
       "MCO     2157\n",
       "BNA     1995\n",
       "MCI     1951\n",
       "MIA     1914\n",
       "CMH     1910\n",
       "MKE     1799\n",
       "SNA     1731\n",
       "IND     1649\n",
       "SJC     1644\n",
       "AUS     1512\n",
       "BDL     1428\n",
       "FLL     1385\n",
       "BUF     1385\n",
       "SAT     1312\n",
       "TPA     1288\n",
       "ROC     1192\n",
       "TUL     1178\n",
       "Name: Dest, dtype: int64"
      ]
     },
     "execution_count": 43,
     "metadata": {},
     "output_type": "execute_result"
    }
   ],
   "source": [
    "largest_Dest=flights_Cancelled.Dest.value_counts(sort=True).nlargest(50)  # Because it is big dataset i emphasis on largest 50 Destination\n",
    "largest_Dest"
   ]
  },
  {
   "cell_type": "code",
   "execution_count": 44,
   "metadata": {
    "slideshow": {
     "slide_type": "skip"
    }
   },
   "outputs": [
    {
     "data": {
      "text/html": [
       "<div>\n",
       "<style scoped>\n",
       "    .dataframe tbody tr th:only-of-type {\n",
       "        vertical-align: middle;\n",
       "    }\n",
       "\n",
       "    .dataframe tbody tr th {\n",
       "        vertical-align: top;\n",
       "    }\n",
       "\n",
       "    .dataframe thead th {\n",
       "        text-align: right;\n",
       "    }\n",
       "</style>\n",
       "<table border=\"1\" class=\"dataframe\">\n",
       "  <thead>\n",
       "    <tr style=\"text-align: right;\">\n",
       "      <th></th>\n",
       "      <th>Dest</th>\n",
       "      <th>Origin</th>\n",
       "      <th>UniqueCarrier</th>\n",
       "      <th>CancellationCode</th>\n",
       "    </tr>\n",
       "  </thead>\n",
       "  <tbody>\n",
       "    <tr>\n",
       "      <th>42</th>\n",
       "      <td>SAT</td>\n",
       "      <td>HOU</td>\n",
       "      <td>WN</td>\n",
       "      <td>A</td>\n",
       "    </tr>\n",
       "    <tr>\n",
       "      <th>259</th>\n",
       "      <td>OAK</td>\n",
       "      <td>LAS</td>\n",
       "      <td>WN</td>\n",
       "      <td>A</td>\n",
       "    </tr>\n",
       "    <tr>\n",
       "      <th>454</th>\n",
       "      <td>OAK</td>\n",
       "      <td>LAX</td>\n",
       "      <td>WN</td>\n",
       "      <td>A</td>\n",
       "    </tr>\n",
       "    <tr>\n",
       "      <th>480</th>\n",
       "      <td>SFO</td>\n",
       "      <td>LAX</td>\n",
       "      <td>WN</td>\n",
       "      <td>A</td>\n",
       "    </tr>\n",
       "    <tr>\n",
       "      <th>482</th>\n",
       "      <td>SFO</td>\n",
       "      <td>LAX</td>\n",
       "      <td>WN</td>\n",
       "      <td>C</td>\n",
       "    </tr>\n",
       "  </tbody>\n",
       "</table>\n",
       "</div>"
      ],
      "text/plain": [
       "    Dest Origin UniqueCarrier CancellationCode\n",
       "42   SAT    HOU            WN                A\n",
       "259  OAK    LAS            WN                A\n",
       "454  OAK    LAX            WN                A\n",
       "480  SFO    LAX            WN                A\n",
       "482  SFO    LAX            WN                C"
      ]
     },
     "execution_count": 44,
     "metadata": {},
     "output_type": "execute_result"
    }
   ],
   "source": [
    "flights_Cancelled_top50Dest=flights_Cancelled[flights_Cancelled.Dest.isin(largest_Dest.index)] # most Frequancy 50 Origins\n",
    "flights_Cancelled_top50Dest.head()    \n"
   ]
  },
  {
   "cell_type": "markdown",
   "metadata": {
    "slideshow": {
     "slide_type": "slide"
    }
   },
   "source": [
    "## Univariate Exploration\n",
    "\n",
    "I'll start by looking at the distribution of the main variables of interest: Origin,Dest"
   ]
  },
  {
   "cell_type": "code",
   "execution_count": 45,
   "metadata": {
    "slideshow": {
     "slide_type": "subslide"
    }
   },
   "outputs": [
    {
     "data": {
      "image/png": "[encoded data removed]",
      "text/plain": [
       "<Figure size 1440x576 with 2 Axes>"
      ]
     },
     "metadata": {
      "needs_background": "light"
     },
     "output_type": "display_data"
    }
   ],
   "source": [
    "flights_Cancelled_top50Origin=flights_Cancelled_top50Origin.sort_values('Origin') # sort to make Comparison between Dest and Origin better \n",
    "flights_Cancelled_top50Dest=flights_Cancelled_top50Dest.sort_values('Dest')\n",
    "\n",
    "fig, ax = plt.subplots(nrows=2, figsize = [20,8])\n",
    "default_color = sb.color_palette()[0]\n",
    "sb.countplot(data =flights_Cancelled_top50Origin, x ='Origin', color = default_color,ax=ax[0])\n",
    "\n",
    "sb.countplot(data =flights_Cancelled_top50Dest, x = 'Dest', color = default_color,ax= ax[1])\n",
    "\n",
    "for ax in fig.axes:\n",
    "    plt.sca(ax)\n",
    "    plt.xticks(rotation=90)\n",
    "    \n",
    "    \n",
    "plt.suptitle(\"Distribution cancellation Flights in Origin and Distinations \")\n",
    "plt.show()"
   ]
  },
  {
   "cell_type": "markdown",
   "metadata": {
    "slideshow": {
     "slide_type": "slide"
    }
   },
   "source": [
    "ORD and DFW have biggst number of Cancellation as both Origin and Destination"
   ]
  },
  {
   "cell_type": "markdown",
   "metadata": {
    "slideshow": {
     "slide_type": "slide"
    }
   },
   "source": [
    "### are there any ather observations"
   ]
  },
  {
   "cell_type": "markdown",
   "metadata": {
    "slideshow": {
     "slide_type": "slide"
    }
   },
   "source": [
    "almost all destinations and origins have same  order of  number of delayed flights ( ORD have biggst number of cancellation  both as origins and destinations)"
   ]
  },
  {
   "cell_type": "markdown",
   "metadata": {
    "slideshow": {
     "slide_type": "slide"
    }
   },
   "source": [
    "###  <strong style=\"color:blue;\"> What is the most frequent reason to cancel flights</strong>"
   ]
  },
  {
   "cell_type": "code",
   "execution_count": 46,
   "metadata": {
    "slideshow": {
     "slide_type": "subslide"
    }
   },
   "outputs": [
    {
     "data": {
      "text/plain": [
       "Text(0.5, 1.0, 'Destributions of reasons of cancellations')"
      ]
     },
     "execution_count": 46,
     "metadata": {},
     "output_type": "execute_result"
    },
    {
     "data": {
      "image/png": "[encoded data removed]",
      "text/plain": [
       "<Figure size 1440x576 with 1 Axes>"
      ]
     },
     "metadata": {
      "needs_background": "light"
     },
     "output_type": "display_data"
    }
   ],
   "source": [
    "fig, ax = plt.subplots(figsize = [20,8])\n",
    "cc_mapping_kays=[\"A\",\"B\",\"C\",\"D\"]\n",
    "cc_mapping_values=[\"carrier\",\"weather\",\"NAS\",\"Securty\"]\n",
    "\n",
    "ax=sb.countplot(data =flights_Cancelled, x ='CancellationCode',order=cc_mapping_kays)\n",
    "ax.set_xticklabels(cc_mapping_values)\n",
    "plt.xlabel('reason of cancellation')\n",
    "plt.title('Destributions of reasons of cancellations')\n"
   ]
  },
  {
   "cell_type": "markdown",
   "metadata": {
    "slideshow": {
     "slide_type": "slide"
    }
   },
   "source": [
    "Most of the reasons for the cancellation are due to Carrier which means Administrative or commercial reasons . Securty reasions Relatively very small which means there is great attention to Sceurty"
   ]
  },
  {
   "cell_type": "markdown",
   "metadata": {
    "slideshow": {
     "slide_type": "slide"
    }
   },
   "source": [
    "### Bivariate Exploration\n",
    "To start off with, I want to look at the pairwise correlations present between Origin and Cacellation code."
   ]
  },
  {
   "cell_type": "code",
   "execution_count": 47,
   "metadata": {
    "slideshow": {
     "slide_type": "skip"
    }
   },
   "outputs": [
    {
     "data": {
      "text/html": [
       "<div>\n",
       "<style scoped>\n",
       "    .dataframe tbody tr th:only-of-type {\n",
       "        vertical-align: middle;\n",
       "    }\n",
       "\n",
       "    .dataframe tbody tr th {\n",
       "        vertical-align: top;\n",
       "    }\n",
       "\n",
       "    .dataframe thead th {\n",
       "        text-align: right;\n",
       "    }\n",
       "</style>\n",
       "<table border=\"1\" class=\"dataframe\">\n",
       "  <thead>\n",
       "    <tr style=\"text-align: right;\">\n",
       "      <th>CancellationCode</th>\n",
       "      <th>A</th>\n",
       "      <th>B</th>\n",
       "      <th>C</th>\n",
       "      <th>D</th>\n",
       "    </tr>\n",
       "    <tr>\n",
       "      <th>Origin</th>\n",
       "      <th></th>\n",
       "      <th></th>\n",
       "      <th></th>\n",
       "      <th></th>\n",
       "    </tr>\n",
       "  </thead>\n",
       "  <tbody>\n",
       "    <tr>\n",
       "      <th>ATL</th>\n",
       "      <td>7744.0</td>\n",
       "      <td>5173.0</td>\n",
       "      <td>3309.0</td>\n",
       "      <td>18.0</td>\n",
       "    </tr>\n",
       "    <tr>\n",
       "      <th>AUS</th>\n",
       "      <td>797.0</td>\n",
       "      <td>669.0</td>\n",
       "      <td>164.0</td>\n",
       "      <td>1.0</td>\n",
       "    </tr>\n",
       "    <tr>\n",
       "      <th>BDL</th>\n",
       "      <td>601.0</td>\n",
       "      <td>702.0</td>\n",
       "      <td>312.0</td>\n",
       "      <td>0.0</td>\n",
       "    </tr>\n",
       "    <tr>\n",
       "      <th>BNA</th>\n",
       "      <td>812.0</td>\n",
       "      <td>686.0</td>\n",
       "      <td>576.0</td>\n",
       "      <td>2.0</td>\n",
       "    </tr>\n",
       "    <tr>\n",
       "      <th>BOS</th>\n",
       "      <td>3860.0</td>\n",
       "      <td>3687.0</td>\n",
       "      <td>1594.0</td>\n",
       "      <td>2.0</td>\n",
       "    </tr>\n",
       "    <tr>\n",
       "      <th>BUF</th>\n",
       "      <td>492.0</td>\n",
       "      <td>683.0</td>\n",
       "      <td>374.0</td>\n",
       "      <td>0.0</td>\n",
       "    </tr>\n",
       "    <tr>\n",
       "      <th>BWI</th>\n",
       "      <td>1335.0</td>\n",
       "      <td>1464.0</td>\n",
       "      <td>497.0</td>\n",
       "      <td>2.0</td>\n",
       "    </tr>\n",
       "    <tr>\n",
       "      <th>CLE</th>\n",
       "      <td>858.0</td>\n",
       "      <td>1661.0</td>\n",
       "      <td>844.0</td>\n",
       "      <td>0.0</td>\n",
       "    </tr>\n",
       "    <tr>\n",
       "      <th>CLT</th>\n",
       "      <td>2481.0</td>\n",
       "      <td>1247.0</td>\n",
       "      <td>956.0</td>\n",
       "      <td>0.0</td>\n",
       "    </tr>\n",
       "    <tr>\n",
       "      <th>CMH</th>\n",
       "      <td>761.0</td>\n",
       "      <td>1006.0</td>\n",
       "      <td>418.0</td>\n",
       "      <td>1.0</td>\n",
       "    </tr>\n",
       "    <tr>\n",
       "      <th>CVG</th>\n",
       "      <td>2248.0</td>\n",
       "      <td>2145.0</td>\n",
       "      <td>740.0</td>\n",
       "      <td>1.0</td>\n",
       "    </tr>\n",
       "    <tr>\n",
       "      <th>DAL</th>\n",
       "      <td>1369.0</td>\n",
       "      <td>845.0</td>\n",
       "      <td>124.0</td>\n",
       "      <td>4.0</td>\n",
       "    </tr>\n",
       "    <tr>\n",
       "      <th>DCA</th>\n",
       "      <td>2890.0</td>\n",
       "      <td>2644.0</td>\n",
       "      <td>1360.0</td>\n",
       "      <td>0.0</td>\n",
       "    </tr>\n",
       "    <tr>\n",
       "      <th>DEN</th>\n",
       "      <td>4155.0</td>\n",
       "      <td>4740.0</td>\n",
       "      <td>529.0</td>\n",
       "      <td>2.0</td>\n",
       "    </tr>\n",
       "    <tr>\n",
       "      <th>DFW</th>\n",
       "      <td>7095.0</td>\n",
       "      <td>10075.0</td>\n",
       "      <td>1967.0</td>\n",
       "      <td>3.0</td>\n",
       "    </tr>\n",
       "    <tr>\n",
       "      <th>DTW</th>\n",
       "      <td>3976.0</td>\n",
       "      <td>2121.0</td>\n",
       "      <td>1356.0</td>\n",
       "      <td>0.0</td>\n",
       "    </tr>\n",
       "    <tr>\n",
       "      <th>EWR</th>\n",
       "      <td>2080.0</td>\n",
       "      <td>4342.0</td>\n",
       "      <td>5993.0</td>\n",
       "      <td>0.0</td>\n",
       "    </tr>\n",
       "    <tr>\n",
       "      <th>FLL</th>\n",
       "      <td>735.0</td>\n",
       "      <td>631.0</td>\n",
       "      <td>94.0</td>\n",
       "      <td>0.0</td>\n",
       "    </tr>\n",
       "    <tr>\n",
       "      <th>HOU</th>\n",
       "      <td>1527.0</td>\n",
       "      <td>594.0</td>\n",
       "      <td>106.0</td>\n",
       "      <td>0.0</td>\n",
       "    </tr>\n",
       "    <tr>\n",
       "      <th>IAD</th>\n",
       "      <td>3010.0</td>\n",
       "      <td>1627.0</td>\n",
       "      <td>1491.0</td>\n",
       "      <td>0.0</td>\n",
       "    </tr>\n",
       "    <tr>\n",
       "      <th>IAH</th>\n",
       "      <td>969.0</td>\n",
       "      <td>3387.0</td>\n",
       "      <td>809.0</td>\n",
       "      <td>39.0</td>\n",
       "    </tr>\n",
       "    <tr>\n",
       "      <th>IND</th>\n",
       "      <td>799.0</td>\n",
       "      <td>600.0</td>\n",
       "      <td>348.0</td>\n",
       "      <td>0.0</td>\n",
       "    </tr>\n",
       "    <tr>\n",
       "      <th>JFK</th>\n",
       "      <td>2478.0</td>\n",
       "      <td>3855.0</td>\n",
       "      <td>705.0</td>\n",
       "      <td>8.0</td>\n",
       "    </tr>\n",
       "    <tr>\n",
       "      <th>LAS</th>\n",
       "      <td>2897.0</td>\n",
       "      <td>935.0</td>\n",
       "      <td>368.0</td>\n",
       "      <td>1.0</td>\n",
       "    </tr>\n",
       "    <tr>\n",
       "      <th>LAX</th>\n",
       "      <td>5350.0</td>\n",
       "      <td>1556.0</td>\n",
       "      <td>627.0</td>\n",
       "      <td>6.0</td>\n",
       "    </tr>\n",
       "    <tr>\n",
       "      <th>LGA</th>\n",
       "      <td>4656.0</td>\n",
       "      <td>5105.0</td>\n",
       "      <td>3825.0</td>\n",
       "      <td>7.0</td>\n",
       "    </tr>\n",
       "    <tr>\n",
       "      <th>MCI</th>\n",
       "      <td>866.0</td>\n",
       "      <td>1018.0</td>\n",
       "      <td>308.0</td>\n",
       "      <td>1.0</td>\n",
       "    </tr>\n",
       "    <tr>\n",
       "      <th>MCO</th>\n",
       "      <td>1262.0</td>\n",
       "      <td>903.0</td>\n",
       "      <td>149.0</td>\n",
       "      <td>1.0</td>\n",
       "    </tr>\n",
       "    <tr>\n",
       "      <th>MDW</th>\n",
       "      <td>1423.0</td>\n",
       "      <td>1535.0</td>\n",
       "      <td>278.0</td>\n",
       "      <td>1.0</td>\n",
       "    </tr>\n",
       "    <tr>\n",
       "      <th>MEM</th>\n",
       "      <td>1939.0</td>\n",
       "      <td>785.0</td>\n",
       "      <td>583.0</td>\n",
       "      <td>1.0</td>\n",
       "    </tr>\n",
       "    <tr>\n",
       "      <th>MIA</th>\n",
       "      <td>1086.0</td>\n",
       "      <td>635.0</td>\n",
       "      <td>179.0</td>\n",
       "      <td>0.0</td>\n",
       "    </tr>\n",
       "    <tr>\n",
       "      <th>MKE</th>\n",
       "      <td>498.0</td>\n",
       "      <td>858.0</td>\n",
       "      <td>519.0</td>\n",
       "      <td>0.0</td>\n",
       "    </tr>\n",
       "    <tr>\n",
       "      <th>MSP</th>\n",
       "      <td>3193.0</td>\n",
       "      <td>1564.0</td>\n",
       "      <td>928.0</td>\n",
       "      <td>1.0</td>\n",
       "    </tr>\n",
       "    <tr>\n",
       "      <th>OAK</th>\n",
       "      <td>1969.0</td>\n",
       "      <td>281.0</td>\n",
       "      <td>82.0</td>\n",
       "      <td>1.0</td>\n",
       "    </tr>\n",
       "    <tr>\n",
       "      <th>ORD</th>\n",
       "      <td>10343.0</td>\n",
       "      <td>12149.0</td>\n",
       "      <td>15563.0</td>\n",
       "      <td>1.0</td>\n",
       "    </tr>\n",
       "    <tr>\n",
       "      <th>PHL</th>\n",
       "      <td>2200.0</td>\n",
       "      <td>1727.0</td>\n",
       "      <td>1279.0</td>\n",
       "      <td>2.0</td>\n",
       "    </tr>\n",
       "    <tr>\n",
       "      <th>PHX</th>\n",
       "      <td>3760.0</td>\n",
       "      <td>1036.0</td>\n",
       "      <td>375.0</td>\n",
       "      <td>1.0</td>\n",
       "    </tr>\n",
       "    <tr>\n",
       "      <th>PIT</th>\n",
       "      <td>927.0</td>\n",
       "      <td>721.0</td>\n",
       "      <td>670.0</td>\n",
       "      <td>1.0</td>\n",
       "    </tr>\n",
       "    <tr>\n",
       "      <th>RDU</th>\n",
       "      <td>1135.0</td>\n",
       "      <td>1194.0</td>\n",
       "      <td>755.0</td>\n",
       "      <td>3.0</td>\n",
       "    </tr>\n",
       "    <tr>\n",
       "      <th>ROC</th>\n",
       "      <td>443.0</td>\n",
       "      <td>552.0</td>\n",
       "      <td>352.0</td>\n",
       "      <td>1.0</td>\n",
       "    </tr>\n",
       "    <tr>\n",
       "      <th>SAN</th>\n",
       "      <td>1860.0</td>\n",
       "      <td>784.0</td>\n",
       "      <td>224.0</td>\n",
       "      <td>0.0</td>\n",
       "    </tr>\n",
       "    <tr>\n",
       "      <th>SAT</th>\n",
       "      <td>812.0</td>\n",
       "      <td>526.0</td>\n",
       "      <td>109.0</td>\n",
       "      <td>0.0</td>\n",
       "    </tr>\n",
       "    <tr>\n",
       "      <th>SEA</th>\n",
       "      <td>1781.0</td>\n",
       "      <td>437.0</td>\n",
       "      <td>114.0</td>\n",
       "      <td>0.0</td>\n",
       "    </tr>\n",
       "    <tr>\n",
       "      <th>SFO</th>\n",
       "      <td>3570.0</td>\n",
       "      <td>1030.0</td>\n",
       "      <td>1661.0</td>\n",
       "      <td>5.0</td>\n",
       "    </tr>\n",
       "    <tr>\n",
       "      <th>SJC</th>\n",
       "      <td>1377.0</td>\n",
       "      <td>309.0</td>\n",
       "      <td>109.0</td>\n",
       "      <td>0.0</td>\n",
       "    </tr>\n",
       "    <tr>\n",
       "      <th>SLC</th>\n",
       "      <td>1547.0</td>\n",
       "      <td>1076.0</td>\n",
       "      <td>93.0</td>\n",
       "      <td>0.0</td>\n",
       "    </tr>\n",
       "    <tr>\n",
       "      <th>SMF</th>\n",
       "      <td>818.0</td>\n",
       "      <td>300.0</td>\n",
       "      <td>187.0</td>\n",
       "      <td>0.0</td>\n",
       "    </tr>\n",
       "    <tr>\n",
       "      <th>SNA</th>\n",
       "      <td>1360.0</td>\n",
       "      <td>337.0</td>\n",
       "      <td>235.0</td>\n",
       "      <td>1.0</td>\n",
       "    </tr>\n",
       "    <tr>\n",
       "      <th>STL</th>\n",
       "      <td>1335.0</td>\n",
       "      <td>1290.0</td>\n",
       "      <td>500.0</td>\n",
       "      <td>0.0</td>\n",
       "    </tr>\n",
       "    <tr>\n",
       "      <th>TPA</th>\n",
       "      <td>721.0</td>\n",
       "      <td>599.0</td>\n",
       "      <td>106.0</td>\n",
       "      <td>1.0</td>\n",
       "    </tr>\n",
       "  </tbody>\n",
       "</table>\n",
       "</div>"
      ],
      "text/plain": [
       "CancellationCode        A        B        C     D\n",
       "Origin                                           \n",
       "ATL                7744.0   5173.0   3309.0  18.0\n",
       "AUS                 797.0    669.0    164.0   1.0\n",
       "BDL                 601.0    702.0    312.0   0.0\n",
       "BNA                 812.0    686.0    576.0   2.0\n",
       "BOS                3860.0   3687.0   1594.0   2.0\n",
       "BUF                 492.0    683.0    374.0   0.0\n",
       "BWI                1335.0   1464.0    497.0   2.0\n",
       "CLE                 858.0   1661.0    844.0   0.0\n",
       "CLT                2481.0   1247.0    956.0   0.0\n",
       "CMH                 761.0   1006.0    418.0   1.0\n",
       "CVG                2248.0   2145.0    740.0   1.0\n",
       "DAL                1369.0    845.0    124.0   4.0\n",
       "DCA                2890.0   2644.0   1360.0   0.0\n",
       "DEN                4155.0   4740.0    529.0   2.0\n",
       "DFW                7095.0  10075.0   1967.0   3.0\n",
       "DTW                3976.0   2121.0   1356.0   0.0\n",
       "EWR                2080.0   4342.0   5993.0   0.0\n",
       "FLL                 735.0    631.0     94.0   0.0\n",
       "HOU                1527.0    594.0    106.0   0.0\n",
       "IAD                3010.0   1627.0   1491.0   0.0\n",
       "IAH                 969.0   3387.0    809.0  39.0\n",
       "IND                 799.0    600.0    348.0   0.0\n",
       "JFK                2478.0   3855.0    705.0   8.0\n",
       "LAS                2897.0    935.0    368.0   1.0\n",
       "LAX                5350.0   1556.0    627.0   6.0\n",
       "LGA                4656.0   5105.0   3825.0   7.0\n",
       "MCI                 866.0   1018.0    308.0   1.0\n",
       "MCO                1262.0    903.0    149.0   1.0\n",
       "MDW                1423.0   1535.0    278.0   1.0\n",
       "MEM                1939.0    785.0    583.0   1.0\n",
       "MIA                1086.0    635.0    179.0   0.0\n",
       "MKE                 498.0    858.0    519.0   0.0\n",
       "MSP                3193.0   1564.0    928.0   1.0\n",
       "OAK                1969.0    281.0     82.0   1.0\n",
       "ORD               10343.0  12149.0  15563.0   1.0\n",
       "PHL                2200.0   1727.0   1279.0   2.0\n",
       "PHX                3760.0   1036.0    375.0   1.0\n",
       "PIT                 927.0    721.0    670.0   1.0\n",
       "RDU                1135.0   1194.0    755.0   3.0\n",
       "ROC                 443.0    552.0    352.0   1.0\n",
       "SAN                1860.0    784.0    224.0   0.0\n",
       "SAT                 812.0    526.0    109.0   0.0\n",
       "SEA                1781.0    437.0    114.0   0.0\n",
       "SFO                3570.0   1030.0   1661.0   5.0\n",
       "SJC                1377.0    309.0    109.0   0.0\n",
       "SLC                1547.0   1076.0     93.0   0.0\n",
       "SMF                 818.0    300.0    187.0   0.0\n",
       "SNA                1360.0    337.0    235.0   1.0\n",
       "STL                1335.0   1290.0    500.0   0.0\n",
       "TPA                 721.0    599.0    106.0   1.0"
      ]
     },
     "execution_count": 47,
     "metadata": {},
     "output_type": "execute_result"
    }
   ],
   "source": [
    "Cancel_count=flights_Cancelled_top50Origin.groupby(['Origin','CancellationCode']).size()  #the number of cancellation for origin by reesons of cancellation\n",
    "Cancel_count=Cancel_count.reset_index(name='count')\n",
    "Cancel_count=Cancel_count.pivot(index='Origin',columns='CancellationCode',values='count')\n",
    "Cancel_count=Cancel_count.fillna(0)\n",
    "Cancel_count"
   ]
  },
  {
   "cell_type": "markdown",
   "metadata": {
    "slideshow": {
     "slide_type": "slide"
    }
   },
   "source": [
    "###  <strong style=\"color:blue;\">What are the proportion of causes of cancellation across Origins ? </strong>"
   ]
  },
  {
   "cell_type": "code",
   "execution_count": 48,
   "metadata": {
    "slideshow": {
     "slide_type": "subslide"
    }
   },
   "outputs": [
    {
     "data": {
      "text/plain": [
       "Text(0.5, 1, 'Destribution of reasons of cancellation among Origin')"
      ]
     },
     "execution_count": 48,
     "metadata": {},
     "output_type": "execute_result"
    },
    {
     "data": {
      "image/png": "[encoded data removed]",
      "text/plain": [
       "<Figure size 1440x1080 with 2 Axes>"
      ]
     },
     "metadata": {
      "needs_background": "light"
     },
     "output_type": "display_data"
    }
   ],
   "source": [
    "fig, ax = plt.subplots(figsize = [20,15])\n",
    "xticks =[\"carrier\",\"weather\",\"NAS\",\"Securty\"]\n",
    "ax=sb.heatmap(Cancel_count,cmap=\"Blues\",annot = True,xticklabels=xticks);\n",
    "plt.xlabel('reasons of cancellation')\n",
    "plt.title('Destribution of reasons of cancellation among Origin')"
   ]
  },
  {
   "cell_type": "markdown",
   "metadata": {
    "slideshow": {
     "slide_type": "slide"
    }
   },
   "source": [
    "there is no specific pattern for distribution of reasons of cancellation throw origins but almost the carrier is have greatest proportion Followed by weather"
   ]
  },
  {
   "cell_type": "markdown",
   "metadata": {
    "slideshow": {
     "slide_type": "slide"
    }
   },
   "source": [
    "### Bivariate Exploration\n",
    " I want to look at the pairwise correlations present between Dest and Cacellation code."
   ]
  },
  {
   "cell_type": "markdown",
   "metadata": {
    "slideshow": {
     "slide_type": "slide"
    }
   },
   "source": [
    " ### <strong style=\"color:blue;\"> What are the percentages of causes of cancellation across Destinations ?</strong>"
   ]
  },
  {
   "cell_type": "code",
   "execution_count": 49,
   "metadata": {
    "slideshow": {
     "slide_type": "subslide"
    }
   },
   "outputs": [
    {
     "data": {
      "text/plain": [
       "Text(0.5, 1.0, 'Destripution of resons of Cancellation')"
      ]
     },
     "execution_count": 49,
     "metadata": {},
     "output_type": "execute_result"
    },
    {
     "data": {
      "image/png": "[encoded data removed]",
      "text/plain": [
       "<Figure size 1440x1080 with 1 Axes>"
      ]
     },
     "metadata": {
      "needs_background": "light"
     },
     "output_type": "display_data"
    }
   ],
   "source": [
    "fig, ax = plt.subplots(figsize = [20,15])\n",
    "cc_mapping_kays=[\"A\",\"B\",\"C\",\"D\"]\n",
    "cc_mapping_values=[\"carrier\",\"weather\",\"NAS\",\"Securty\"]  # to replace coulmns headeres with what headers mean\n",
    "ax = sb.countplot(data = flights_Cancelled_top50Dest, x = 'Dest',hue='CancellationCode',hue_order=cc_mapping_kays)\n",
    "legend_labels, _= ax.get_legend_handles_labels()\n",
    "ax.legend(legend_labels,cc_mapping_values, title='resons of canceltion',loc = 2, ncol = 3, framealpha = 1)\n",
    "\n",
    "plt.xticks(rotation=90)\n",
    "plt.title('Destripution of resons of Cancellation')"
   ]
  },
  {
   "cell_type": "markdown",
   "metadata": {
    "slideshow": {
     "slide_type": "slide"
    }
   },
   "source": [
    "there is  no specific pattern for distribution of reasons of cancellation throw Destinations"
   ]
  },
  {
   "cell_type": "markdown",
   "metadata": {
    "slideshow": {
     "slide_type": "slide"
    }
   },
   "source": [
    "## Multivariate Exploration\n",
    "\n",
    "### The main thing I want to explore in this part of the analysis is the relation between delay time and delay reasons throw differnt Destinations \n"
   ]
  },
  {
   "cell_type": "code",
   "execution_count": 50,
   "metadata": {
    "slideshow": {
     "slide_type": "skip"
    }
   },
   "outputs": [
    {
     "data": {
      "text/html": [
       "<div>\n",
       "<style scoped>\n",
       "    .dataframe tbody tr th:only-of-type {\n",
       "        vertical-align: middle;\n",
       "    }\n",
       "\n",
       "    .dataframe tbody tr th {\n",
       "        vertical-align: top;\n",
       "    }\n",
       "\n",
       "    .dataframe thead th {\n",
       "        text-align: right;\n",
       "    }\n",
       "</style>\n",
       "<table border=\"1\" class=\"dataframe\">\n",
       "  <thead>\n",
       "    <tr style=\"text-align: right;\">\n",
       "      <th></th>\n",
       "      <th>Year</th>\n",
       "      <th>Month</th>\n",
       "      <th>DayofMonth</th>\n",
       "      <th>DayOfWeek</th>\n",
       "      <th>DepTime</th>\n",
       "      <th>CRSDepTime</th>\n",
       "      <th>ArrTime</th>\n",
       "      <th>CRSArrTime</th>\n",
       "      <th>UniqueCarrier</th>\n",
       "      <th>FlightNum</th>\n",
       "      <th>...</th>\n",
       "      <th>TaxiIn</th>\n",
       "      <th>TaxiOut</th>\n",
       "      <th>Cancelled</th>\n",
       "      <th>CancellationCode</th>\n",
       "      <th>Diverted</th>\n",
       "      <th>CarrierDelay</th>\n",
       "      <th>WeatherDelay</th>\n",
       "      <th>NASDelay</th>\n",
       "      <th>SecurityDelay</th>\n",
       "      <th>LateAircraftDelay</th>\n",
       "    </tr>\n",
       "  </thead>\n",
       "  <tbody>\n",
       "    <tr>\n",
       "      <th>0</th>\n",
       "      <td>2008</td>\n",
       "      <td>1</td>\n",
       "      <td>3</td>\n",
       "      <td>4</td>\n",
       "      <td>1343.0</td>\n",
       "      <td>1325</td>\n",
       "      <td>1451.0</td>\n",
       "      <td>1435</td>\n",
       "      <td>WN</td>\n",
       "      <td>588</td>\n",
       "      <td>...</td>\n",
       "      <td>4.0</td>\n",
       "      <td>9.0</td>\n",
       "      <td>0</td>\n",
       "      <td>NaN</td>\n",
       "      <td>0</td>\n",
       "      <td>16.0</td>\n",
       "      <td>0.0</td>\n",
       "      <td>0.0</td>\n",
       "      <td>0.0</td>\n",
       "      <td>0.0</td>\n",
       "    </tr>\n",
       "    <tr>\n",
       "      <th>1</th>\n",
       "      <td>2008</td>\n",
       "      <td>1</td>\n",
       "      <td>3</td>\n",
       "      <td>4</td>\n",
       "      <td>1125.0</td>\n",
       "      <td>1120</td>\n",
       "      <td>1247.0</td>\n",
       "      <td>1245</td>\n",
       "      <td>WN</td>\n",
       "      <td>1343</td>\n",
       "      <td>...</td>\n",
       "      <td>3.0</td>\n",
       "      <td>8.0</td>\n",
       "      <td>0</td>\n",
       "      <td>NaN</td>\n",
       "      <td>0</td>\n",
       "      <td>NaN</td>\n",
       "      <td>NaN</td>\n",
       "      <td>NaN</td>\n",
       "      <td>NaN</td>\n",
       "      <td>NaN</td>\n",
       "    </tr>\n",
       "    <tr>\n",
       "      <th>2</th>\n",
       "      <td>2008</td>\n",
       "      <td>1</td>\n",
       "      <td>3</td>\n",
       "      <td>4</td>\n",
       "      <td>2009.0</td>\n",
       "      <td>2015</td>\n",
       "      <td>2136.0</td>\n",
       "      <td>2140</td>\n",
       "      <td>WN</td>\n",
       "      <td>3841</td>\n",
       "      <td>...</td>\n",
       "      <td>2.0</td>\n",
       "      <td>14.0</td>\n",
       "      <td>0</td>\n",
       "      <td>NaN</td>\n",
       "      <td>0</td>\n",
       "      <td>NaN</td>\n",
       "      <td>NaN</td>\n",
       "      <td>NaN</td>\n",
       "      <td>NaN</td>\n",
       "      <td>NaN</td>\n",
       "    </tr>\n",
       "    <tr>\n",
       "      <th>3</th>\n",
       "      <td>2008</td>\n",
       "      <td>1</td>\n",
       "      <td>3</td>\n",
       "      <td>4</td>\n",
       "      <td>903.0</td>\n",
       "      <td>855</td>\n",
       "      <td>1203.0</td>\n",
       "      <td>1205</td>\n",
       "      <td>WN</td>\n",
       "      <td>3</td>\n",
       "      <td>...</td>\n",
       "      <td>5.0</td>\n",
       "      <td>7.0</td>\n",
       "      <td>0</td>\n",
       "      <td>NaN</td>\n",
       "      <td>0</td>\n",
       "      <td>NaN</td>\n",
       "      <td>NaN</td>\n",
       "      <td>NaN</td>\n",
       "      <td>NaN</td>\n",
       "      <td>NaN</td>\n",
       "    </tr>\n",
       "    <tr>\n",
       "      <th>4</th>\n",
       "      <td>2008</td>\n",
       "      <td>1</td>\n",
       "      <td>3</td>\n",
       "      <td>4</td>\n",
       "      <td>1423.0</td>\n",
       "      <td>1400</td>\n",
       "      <td>1726.0</td>\n",
       "      <td>1710</td>\n",
       "      <td>WN</td>\n",
       "      <td>25</td>\n",
       "      <td>...</td>\n",
       "      <td>6.0</td>\n",
       "      <td>10.0</td>\n",
       "      <td>0</td>\n",
       "      <td>NaN</td>\n",
       "      <td>0</td>\n",
       "      <td>16.0</td>\n",
       "      <td>0.0</td>\n",
       "      <td>0.0</td>\n",
       "      <td>0.0</td>\n",
       "      <td>0.0</td>\n",
       "    </tr>\n",
       "  </tbody>\n",
       "</table>\n",
       "<p>5 rows × 29 columns</p>\n",
       "</div>"
      ],
      "text/plain": [
       "   Year  Month  DayofMonth  DayOfWeek  DepTime  CRSDepTime  ArrTime  \\\n",
       "0  2008      1           3          4   1343.0        1325   1451.0   \n",
       "1  2008      1           3          4   1125.0        1120   1247.0   \n",
       "2  2008      1           3          4   2009.0        2015   2136.0   \n",
       "3  2008      1           3          4    903.0         855   1203.0   \n",
       "4  2008      1           3          4   1423.0        1400   1726.0   \n",
       "\n",
       "   CRSArrTime UniqueCarrier  FlightNum  ... TaxiIn  TaxiOut  Cancelled  \\\n",
       "0        1435            WN        588  ...    4.0      9.0          0   \n",
       "1        1245            WN       1343  ...    3.0      8.0          0   \n",
       "2        2140            WN       3841  ...    2.0     14.0          0   \n",
       "3        1205            WN          3  ...    5.0      7.0          0   \n",
       "4        1710            WN         25  ...    6.0     10.0          0   \n",
       "\n",
       "   CancellationCode  Diverted  CarrierDelay WeatherDelay NASDelay  \\\n",
       "0               NaN         0          16.0          0.0      0.0   \n",
       "1               NaN         0           NaN          NaN      NaN   \n",
       "2               NaN         0           NaN          NaN      NaN   \n",
       "3               NaN         0           NaN          NaN      NaN   \n",
       "4               NaN         0          16.0          0.0      0.0   \n",
       "\n",
       "   SecurityDelay  LateAircraftDelay  \n",
       "0            0.0                0.0  \n",
       "1            NaN                NaN  \n",
       "2            NaN                NaN  \n",
       "3            NaN                NaN  \n",
       "4            0.0                0.0  \n",
       "\n",
       "[5 rows x 29 columns]"
      ]
     },
     "execution_count": 50,
     "metadata": {},
     "output_type": "execute_result"
    }
   ],
   "source": [
    "flights_delayed=flights.query('Cancelled==0')   # flights didnot cancel \n",
    "flights_delayed.head()"
   ]
  },
  {
   "cell_type": "code",
   "execution_count": 51,
   "metadata": {
    "slideshow": {
     "slide_type": "skip"
    }
   },
   "outputs": [
    {
     "data": {
      "text/plain": [
       "ATL    937377\n",
       "ORD    827158\n",
       "DFW    671820\n",
       "DEN    541454\n",
       "LAX    537075\n",
       "PHX    488778\n",
       "IAH    481475\n",
       "LAS    424245\n",
       "DTW    353876\n",
       "EWR    348673\n",
       "Name: Dest, dtype: int64"
      ]
     },
     "execution_count": 51,
     "metadata": {},
     "output_type": "execute_result"
    }
   ],
   "source": [
    "largest_Dest=flights_delayed.Dest.value_counts(sort=True).nlargest(10)  # largst 10 nubmer of delayed flights to Destinations \n",
    "largest_Dest"
   ]
  },
  {
   "cell_type": "code",
   "execution_count": 52,
   "metadata": {
    "slideshow": {
     "slide_type": "skip"
    }
   },
   "outputs": [
    {
     "data": {
      "text/plain": [
       "ATL    937377\n",
       "ORD    827158\n",
       "DFW    671820\n",
       "DEN    541454\n",
       "LAX    537075\n",
       "PHX    488778\n",
       "IAH    481475\n",
       "LAS    424245\n",
       "DTW    353876\n",
       "EWR    348673\n",
       "Name: Dest, dtype: int64"
      ]
     },
     "execution_count": 52,
     "metadata": {},
     "output_type": "execute_result"
    }
   ],
   "source": [
    "flights_Delayed_top10Dest=flights_delayed[flights_delayed.Dest.isin(largest_Dest.index)]  # dataframe for largst 10 \n",
    "flights_Delayed_top10Dest.Dest.value_counts()"
   ]
  },
  {
   "cell_type": "code",
   "execution_count": 53,
   "metadata": {
    "slideshow": {
     "slide_type": "skip"
    }
   },
   "outputs": [],
   "source": [
    "flights_Delayed_top10Dest=flights_Delayed_top10Dest[{'Year','UniqueCarrier','CarrierDelay','WeatherDelay','NASDelay','SecurityDelay','LateAircraftDelay','Origin','Dest'}]"
   ]
  },
  {
   "cell_type": "code",
   "execution_count": 54,
   "metadata": {
    "slideshow": {
     "slide_type": "skip"
    }
   },
   "outputs": [
    {
     "data": {
      "text/html": [
       "<div>\n",
       "<style scoped>\n",
       "    .dataframe tbody tr th:only-of-type {\n",
       "        vertical-align: middle;\n",
       "    }\n",
       "\n",
       "    .dataframe tbody tr th {\n",
       "        vertical-align: top;\n",
       "    }\n",
       "\n",
       "    .dataframe thead th {\n",
       "        text-align: right;\n",
       "    }\n",
       "</style>\n",
       "<table border=\"1\" class=\"dataframe\">\n",
       "  <thead>\n",
       "    <tr style=\"text-align: right;\">\n",
       "      <th></th>\n",
       "      <th>LateAircraftDelay</th>\n",
       "      <th>Dest</th>\n",
       "      <th>CarrierDelay</th>\n",
       "      <th>SecurityDelay</th>\n",
       "      <th>Origin</th>\n",
       "      <th>UniqueCarrier</th>\n",
       "      <th>Year</th>\n",
       "      <th>WeatherDelay</th>\n",
       "      <th>NASDelay</th>\n",
       "    </tr>\n",
       "  </thead>\n",
       "  <tbody>\n",
       "    <tr>\n",
       "      <th>34</th>\n",
       "      <td>NaN</td>\n",
       "      <td>PHX</td>\n",
       "      <td>NaN</td>\n",
       "      <td>NaN</td>\n",
       "      <td>HOU</td>\n",
       "      <td>WN</td>\n",
       "      <td>2008</td>\n",
       "      <td>NaN</td>\n",
       "      <td>NaN</td>\n",
       "    </tr>\n",
       "    <tr>\n",
       "      <th>35</th>\n",
       "      <td>0.0</td>\n",
       "      <td>PHX</td>\n",
       "      <td>113.0</td>\n",
       "      <td>0.0</td>\n",
       "      <td>HOU</td>\n",
       "      <td>WN</td>\n",
       "      <td>2008</td>\n",
       "      <td>0.0</td>\n",
       "      <td>0.0</td>\n",
       "    </tr>\n",
       "    <tr>\n",
       "      <th>36</th>\n",
       "      <td>58.0</td>\n",
       "      <td>PHX</td>\n",
       "      <td>21.0</td>\n",
       "      <td>0.0</td>\n",
       "      <td>HOU</td>\n",
       "      <td>WN</td>\n",
       "      <td>2008</td>\n",
       "      <td>0.0</td>\n",
       "      <td>0.0</td>\n",
       "    </tr>\n",
       "    <tr>\n",
       "      <th>37</th>\n",
       "      <td>29.0</td>\n",
       "      <td>PHX</td>\n",
       "      <td>9.0</td>\n",
       "      <td>0.0</td>\n",
       "      <td>HOU</td>\n",
       "      <td>WN</td>\n",
       "      <td>2008</td>\n",
       "      <td>0.0</td>\n",
       "      <td>0.0</td>\n",
       "    </tr>\n",
       "    <tr>\n",
       "      <th>38</th>\n",
       "      <td>NaN</td>\n",
       "      <td>PHX</td>\n",
       "      <td>NaN</td>\n",
       "      <td>NaN</td>\n",
       "      <td>HOU</td>\n",
       "      <td>WN</td>\n",
       "      <td>2008</td>\n",
       "      <td>NaN</td>\n",
       "      <td>NaN</td>\n",
       "    </tr>\n",
       "  </tbody>\n",
       "</table>\n",
       "</div>"
      ],
      "text/plain": [
       "    LateAircraftDelay Dest  CarrierDelay  SecurityDelay Origin UniqueCarrier  \\\n",
       "34                NaN  PHX           NaN            NaN    HOU            WN   \n",
       "35                0.0  PHX         113.0            0.0    HOU            WN   \n",
       "36               58.0  PHX          21.0            0.0    HOU            WN   \n",
       "37               29.0  PHX           9.0            0.0    HOU            WN   \n",
       "38                NaN  PHX           NaN            NaN    HOU            WN   \n",
       "\n",
       "    Year  WeatherDelay  NASDelay  \n",
       "34  2008           NaN       NaN  \n",
       "35  2008           0.0       0.0  \n",
       "36  2008           0.0       0.0  \n",
       "37  2008           0.0       0.0  \n",
       "38  2008           NaN       NaN  "
      ]
     },
     "execution_count": 54,
     "metadata": {},
     "output_type": "execute_result"
    }
   ],
   "source": [
    "flights_Delayed_top10Dest.head()"
   ]
  },
  {
   "cell_type": "code",
   "execution_count": 55,
   "metadata": {
    "slideshow": {
     "slide_type": "skip"
    }
   },
   "outputs": [],
   "source": [
    "# solve tidiness issue 5 coulmns(CarrierDelay','WeatherDelay','NASDelay','SecurityDelay','LateAircraftDelay') and two vairabls\n",
    "flights_delayed_mlt=pd.melt(flights_Delayed_top10Dest, id_vars =['Year','UniqueCarrier','Origin','Dest'], value_name ='Delay_time',var_name='reson of delay') "
   ]
  },
  {
   "cell_type": "code",
   "execution_count": 56,
   "metadata": {
    "slideshow": {
     "slide_type": "skip"
    }
   },
   "outputs": [
    {
     "data": {
      "text/plain": [
       "ATL    4686885\n",
       "ORD    4135790\n",
       "DFW    3359100\n",
       "DEN    2707270\n",
       "LAX    2685375\n",
       "PHX    2443890\n",
       "IAH    2407375\n",
       "LAS    2121225\n",
       "DTW    1769380\n",
       "EWR    1743365\n",
       "Name: Dest, dtype: int64"
      ]
     },
     "execution_count": 56,
     "metadata": {},
     "output_type": "execute_result"
    }
   ],
   "source": [
    "flights_delayed_mlt.Dest.value_counts()"
   ]
  },
  {
   "cell_type": "code",
   "execution_count": 57,
   "metadata": {
    "slideshow": {
     "slide_type": "skip"
    }
   },
   "outputs": [],
   "source": [
    "flights_delayed_mlt.dropna(subset = ['Delay_time'],inplace=True) # drop all null "
   ]
  },
  {
   "cell_type": "code",
   "execution_count": 58,
   "metadata": {
    "slideshow": {
     "slide_type": "skip"
    }
   },
   "outputs": [],
   "source": [
    "flights_delayed_mlt=flights_delayed_mlt.query('Delay_time > 0')  # dataframe contains only delayed flights"
   ]
  },
  {
   "cell_type": "code",
   "execution_count": 59,
   "metadata": {
    "slideshow": {
     "slide_type": "skip"
    }
   },
   "outputs": [
    {
     "data": {
      "text/html": [
       "<div>\n",
       "<style scoped>\n",
       "    .dataframe tbody tr th:only-of-type {\n",
       "        vertical-align: middle;\n",
       "    }\n",
       "\n",
       "    .dataframe tbody tr th {\n",
       "        vertical-align: top;\n",
       "    }\n",
       "\n",
       "    .dataframe thead th {\n",
       "        text-align: right;\n",
       "    }\n",
       "</style>\n",
       "<table border=\"1\" class=\"dataframe\">\n",
       "  <thead>\n",
       "    <tr style=\"text-align: right;\">\n",
       "      <th></th>\n",
       "      <th>Year</th>\n",
       "      <th>UniqueCarrier</th>\n",
       "      <th>Origin</th>\n",
       "      <th>Dest</th>\n",
       "      <th>reson of delay</th>\n",
       "      <th>Delay_time</th>\n",
       "    </tr>\n",
       "  </thead>\n",
       "  <tbody>\n",
       "    <tr>\n",
       "      <th>2</th>\n",
       "      <td>2008</td>\n",
       "      <td>WN</td>\n",
       "      <td>HOU</td>\n",
       "      <td>PHX</td>\n",
       "      <td>LateAircraftDelay</td>\n",
       "      <td>58.0</td>\n",
       "    </tr>\n",
       "    <tr>\n",
       "      <th>3</th>\n",
       "      <td>2008</td>\n",
       "      <td>WN</td>\n",
       "      <td>HOU</td>\n",
       "      <td>PHX</td>\n",
       "      <td>LateAircraftDelay</td>\n",
       "      <td>29.0</td>\n",
       "    </tr>\n",
       "    <tr>\n",
       "      <th>6</th>\n",
       "      <td>2008</td>\n",
       "      <td>WN</td>\n",
       "      <td>IND</td>\n",
       "      <td>LAS</td>\n",
       "      <td>LateAircraftDelay</td>\n",
       "      <td>47.0</td>\n",
       "    </tr>\n",
       "    <tr>\n",
       "      <th>8</th>\n",
       "      <td>2008</td>\n",
       "      <td>WN</td>\n",
       "      <td>IND</td>\n",
       "      <td>PHX</td>\n",
       "      <td>LateAircraftDelay</td>\n",
       "      <td>12.0</td>\n",
       "    </tr>\n",
       "    <tr>\n",
       "      <th>13</th>\n",
       "      <td>2008</td>\n",
       "      <td>WN</td>\n",
       "      <td>LAS</td>\n",
       "      <td>DEN</td>\n",
       "      <td>LateAircraftDelay</td>\n",
       "      <td>56.0</td>\n",
       "    </tr>\n",
       "  </tbody>\n",
       "</table>\n",
       "</div>"
      ],
      "text/plain": [
       "    Year UniqueCarrier Origin Dest     reson of delay  Delay_time\n",
       "2   2008            WN    HOU  PHX  LateAircraftDelay        58.0\n",
       "3   2008            WN    HOU  PHX  LateAircraftDelay        29.0\n",
       "6   2008            WN    IND  LAS  LateAircraftDelay        47.0\n",
       "8   2008            WN    IND  PHX  LateAircraftDelay        12.0\n",
       "13  2008            WN    LAS  DEN  LateAircraftDelay        56.0"
      ]
     },
     "execution_count": 59,
     "metadata": {},
     "output_type": "execute_result"
    }
   ],
   "source": [
    "flights_delayed_mlt.head()"
   ]
  },
  {
   "cell_type": "code",
   "execution_count": 60,
   "metadata": {
    "slideshow": {
     "slide_type": "skip"
    }
   },
   "outputs": [],
   "source": [
    "flights_delayed_mlt_temp=flights_delayed_mlt[{'Dest','reson of delay','Delay_time'}]  # only coulmns i need to analysis"
   ]
  },
  {
   "cell_type": "code",
   "execution_count": 61,
   "metadata": {
    "slideshow": {
     "slide_type": "skip"
    }
   },
   "outputs": [
    {
     "data": {
      "text/html": [
       "<div>\n",
       "<style scoped>\n",
       "    .dataframe tbody tr th:only-of-type {\n",
       "        vertical-align: middle;\n",
       "    }\n",
       "\n",
       "    .dataframe tbody tr th {\n",
       "        vertical-align: top;\n",
       "    }\n",
       "\n",
       "    .dataframe thead th {\n",
       "        text-align: right;\n",
       "    }\n",
       "</style>\n",
       "<table border=\"1\" class=\"dataframe\">\n",
       "  <thead>\n",
       "    <tr style=\"text-align: right;\">\n",
       "      <th></th>\n",
       "      <th>reson of delay</th>\n",
       "      <th>Dest</th>\n",
       "      <th>Delay_time</th>\n",
       "    </tr>\n",
       "  </thead>\n",
       "  <tbody>\n",
       "    <tr>\n",
       "      <th>0</th>\n",
       "      <td>CarrierDelay</td>\n",
       "      <td>ATL</td>\n",
       "      <td>4084724.0</td>\n",
       "    </tr>\n",
       "    <tr>\n",
       "      <th>1</th>\n",
       "      <td>CarrierDelay</td>\n",
       "      <td>DEN</td>\n",
       "      <td>1815299.0</td>\n",
       "    </tr>\n",
       "    <tr>\n",
       "      <th>2</th>\n",
       "      <td>CarrierDelay</td>\n",
       "      <td>DFW</td>\n",
       "      <td>2131363.0</td>\n",
       "    </tr>\n",
       "    <tr>\n",
       "      <th>3</th>\n",
       "      <td>CarrierDelay</td>\n",
       "      <td>DTW</td>\n",
       "      <td>1551617.0</td>\n",
       "    </tr>\n",
       "    <tr>\n",
       "      <th>4</th>\n",
       "      <td>CarrierDelay</td>\n",
       "      <td>EWR</td>\n",
       "      <td>841566.0</td>\n",
       "    </tr>\n",
       "  </tbody>\n",
       "</table>\n",
       "</div>"
      ],
      "text/plain": [
       "  reson of delay Dest  Delay_time\n",
       "0   CarrierDelay  ATL   4084724.0\n",
       "1   CarrierDelay  DEN   1815299.0\n",
       "2   CarrierDelay  DFW   2131363.0\n",
       "3   CarrierDelay  DTW   1551617.0\n",
       "4   CarrierDelay  EWR    841566.0"
      ]
     },
     "execution_count": 61,
     "metadata": {},
     "output_type": "execute_result"
    }
   ],
   "source": [
    "Delay_sum=flights_delayed_mlt_temp.groupby(['reson of delay','Dest']).sum()   # sum of delay time for evry reason of delay \n",
    "Delay_sum=Delay_sum.reset_index()\n",
    "Delay_sum.head()"
   ]
  },
  {
   "cell_type": "code",
   "execution_count": 62,
   "metadata": {
    "slideshow": {
     "slide_type": "subslide"
    }
   },
   "outputs": [
    {
     "data": {
      "text/plain": [
       "Text(0.5, 1.0, 'Relation between Delay Time and Distination')"
      ]
     },
     "execution_count": 62,
     "metadata": {},
     "output_type": "execute_result"
    },
    {
     "data": {
      "image/png": "[encoded data removed]",
      "text/plain": [
       "<Figure size 1440x1080 with 1 Axes>"
      ]
     },
     "metadata": {
      "needs_background": "light"
     },
     "output_type": "display_data"
    }
   ],
   "source": [
    "fig, ax = plt.subplots(figsize = [20,15])\n",
    "ax = sb.barplot(data = Delay_sum, x = 'Dest', y = 'Delay_time', hue = 'reson of delay')\n",
    "ax.legend(loc = 8, ncol = 3, framealpha = 1, title = 'Reasons of delay')\n",
    "plt.xticks(rotation=90)\n",
    "plt.ylabel('Delay time in seconds')\n",
    "plt.xlabel('Destination')\n",
    "plt.title(\"Relation between Delay Time and Distination\") \n",
    "  "
   ]
  },
  {
   "cell_type": "markdown",
   "metadata": {
    "slideshow": {
     "slide_type": "slide"
    }
   },
   "source": [
    "there is tidiness issue 5 coulmns(CarrierDelay','WeatherDelay','NASDelay','SecurityDelay','LateAircraftDelay') and two vairabls"
   ]
  },
  {
   "cell_type": "markdown",
   "metadata": {
    "slideshow": {
     "slide_type": "slide"
    }
   },
   "source": [
    "the most greatest amounts of time of delay because of Carrier delay,lateAircraft delay and Nas Delay .Their size order varies across Destinations .Securty is in best condition in all DestinationsوIt is rarely a reason for delays\n"
   ]
  },
  {
   "cell_type": "code",
   "execution_count": null,
   "metadata": {},
   "outputs": [],
   "source": []
  }
 ],
 "metadata": {
  "celltoolbar": "Slideshow",
  "kernelspec": {
   "display_name": "Python 3",
   "language": "python",
   "name": "python3"
  },
  "language_info": {
   "codemirror_mode": {
    "name": "ipython",
    "version": 3
   },
   "file_extension": ".py",
   "mimetype": "text/x-python",
   "name": "python",
   "nbconvert_exporter": "python",
   "pygments_lexer": "ipython3",
   "version": "3.7.7"
  }
 },
 "nbformat": 4,
 "nbformat_minor": 4
}
